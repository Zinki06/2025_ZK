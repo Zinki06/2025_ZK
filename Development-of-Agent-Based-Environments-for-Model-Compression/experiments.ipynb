{
 "cells": [
  {
   "cell_type": "markdown",
   "id": "4aa2a256",
   "metadata": {},
   "source": "# Model Compression Experiments\n\nThis notebook demonstrates various model compression techniques including pruning, quantization, and knowledge distillation using transformer models.\n\n## Experiments Overview\n- Model loading and baseline measurement\n- Pruning experiments with different methods\n- Quantization comparison (dynamic vs static)\n- Knowledge distillation setup\n- Performance evaluation and visualization"
  },
  {
   "cell_type": "code",
   "execution_count": null,
   "id": "d082d35e",
   "metadata": {},
   "outputs": [],
   "source": "# Install required libraries\n!pip install -q transformers torch torchvision matplotlib seaborn pandas numpy\n\n# Import libraries\nimport torch\nimport torch.nn as nn\nfrom transformers import AutoModel, AutoTokenizer\nimport matplotlib.pyplot as plt\nimport seaborn as sns\nimport numpy as np\nimport time\nimport os\n\n# Set up plotting style\nplt.style.use('default')\nsns.set_palette(\"husl\")\n\nprint(\"Environment setup completed\")"
  },
  {
   "cell_type": "code",
   "execution_count": null,
   "id": "cf671dc9",
   "metadata": {},
   "outputs": [],
   "source": "# Load baseline model for compression experiments\nmodel_name = \"distilbert-base-uncased\"\nprint(f\"Loading model: {model_name}\")\n\n# Load model and tokenizer\nmodel = AutoModel.from_pretrained(model_name)\ntokenizer = AutoTokenizer.from_pretrained(model_name)\n\n# Model statistics\ntotal_params = sum(p.numel() for p in model.parameters())\nmodel_size_mb = total_params * 4 / 1024 / 1024  # 4 bytes per float32\n\nprint(f\"Total parameters: {total_params:,}\")\nprint(f\"Model size: {model_size_mb:.2f} MB\")\nprint(f\"Model loaded successfully\")\n\n# Prepare sample inputs for testing\nsample_texts = [\n    \"This is a sample text for model compression testing.\",\n    \"Model compression reduces model size while maintaining performance.\",\n    \"We evaluate pruning, quantization, and distillation techniques.\"\n]\n\nsample_inputs = tokenizer(sample_texts, return_tensors=\"pt\", padding=True, truncation=True)\nprint(f\"Sample inputs prepared: {sample_inputs['input_ids'].shape}\")"
  },
  {
   "cell_type": "code",
   "execution_count": null,
   "id": "3f5114c3",
   "metadata": {},
   "outputs": [],
   "source": "# Baseline Performance Measurement\ndef measure_inference_time(model, inputs, num_runs=50):\n    \"\"\"Measure average inference time\"\"\"\n    model.eval()\n    times = []\n    \n    # Warmup\n    with torch.no_grad():\n        for _ in range(5):\n            _ = model(**inputs)\n    \n    # Actual measurement\n    with torch.no_grad():\n        for _ in range(num_runs):\n            start_time = time.perf_counter()\n            _ = model(**inputs)\n            end_time = time.perf_counter()\n            times.append(end_time - start_time)\n    \n    return {\n        'avg_time': np.mean(times),\n        'std_time': np.std(times),\n        'min_time': np.min(times),\n        'max_time': np.max(times)\n    }\n\n# Measure baseline performance\nprint(\"Measuring baseline performance...\")\nbaseline_perf = measure_inference_time(model, sample_inputs)\n\nprint(f\"Average inference time: {baseline_perf['avg_time']*1000:.2f} ± {baseline_perf['std_time']*1000:.2f} ms\")\nprint(f\"Min/Max time: {baseline_perf['min_time']*1000:.2f} / {baseline_perf['max_time']*1000:.2f} ms\")\n\n# Store baseline metrics\nbaseline_metrics = {\n    'params': total_params,\n    'size_mb': model_size_mb,\n    'inference_time': baseline_perf['avg_time'],\n    'throughput': 1 / baseline_perf['avg_time']\n}\n\nprint(f\"Baseline throughput: {baseline_metrics['throughput']:.1f} inferences/sec\")"
  },
  {
   "cell_type": "code",
   "execution_count": null,
   "id": "6bd76d74",
   "metadata": {},
   "outputs": [],
   "source": "# Pruning Experiments\nimport torch.nn.utils.prune as prune\nimport copy\n\ndef apply_magnitude_pruning(model, pruning_ratio=0.3):\n    \"\"\"Apply magnitude-based pruning\"\"\"\n    pruned_model = copy.deepcopy(model)\n    \n    pruned_params = 0\n    total_params = 0\n    \n    for name, module in pruned_model.named_modules():\n        if isinstance(module, nn.Linear):\n            prune.l1_unstructured(module, name='weight', amount=pruning_ratio)\n            pruned_params += int(pruning_ratio * module.weight.numel())\n            total_params += module.weight.numel()\n    \n    print(f\"Pruned {pruned_params:,} / {total_params:,} parameters ({pruning_ratio*100:.1f}%)\")\n    return pruned_model\n\n# Test different pruning ratios\npruning_ratios = [0.1, 0.3, 0.5, 0.7]\npruning_results = {}\n\nprint(\"Running pruning experiments...\")\nfor ratio in pruning_ratios:\n    print(f\"\\n--- Pruning Ratio: {ratio*100:.0f}% ---\")\n    \n    # Apply pruning\n    pruned_model = apply_magnitude_pruning(model, ratio)\n    \n    # Measure performance\n    pruned_perf = measure_inference_time(pruned_model, sample_inputs)\n    \n    # Calculate metrics\n    speedup = baseline_perf['avg_time'] / pruned_perf['avg_time']\n    \n    pruning_results[ratio] = {\n        'inference_time': pruned_perf['avg_time'],\n        'speedup': speedup,\n        'pruned_params': int(ratio * total_params)\n    }\n    \n    print(f\"Inference time: {pruned_perf['avg_time']*1000:.2f} ms\")\n    print(f\"Speedup: {speedup:.2f}x\")\n\nprint(\"\\nPruning experiments completed\")"
  },
  {
   "cell_type": "code",
   "execution_count": null,
   "id": "3b6caf3a",
   "metadata": {},
   "outputs": [],
   "source": "# Quantization Experiments\nimport torch.quantization as quant\n\ndef apply_dynamic_quantization(model):\n    \"\"\"Apply dynamic quantization\"\"\"\n    quantized_model = quant.quantize_dynamic(\n        model, {nn.Linear}, dtype=torch.qint8\n    )\n    return quantized_model\n\ndef estimate_model_size(model):\n    \"\"\"Estimate model size in MB\"\"\"\n    param_size = 0\n    for param in model.parameters():\n        param_size += param.nelement() * param.element_size()\n    \n    buffer_size = 0\n    for buffer in model.buffers():\n        buffer_size += buffer.nelement() * buffer.element_size()\n    \n    return (param_size + buffer_size) / 1024 / 1024\n\nprint(\"Running quantization experiments...\")\n\n# Apply dynamic quantization\nquantized_model = apply_dynamic_quantization(model)\n\n# Measure quantized model performance\nprint(\"\\n--- Dynamic Quantization ---\")\nquantized_perf = measure_inference_time(quantized_model, sample_inputs)\nquantized_size = estimate_model_size(quantized_model)\n\n# Calculate metrics\nquant_speedup = baseline_perf['avg_time'] / quantized_perf['avg_time']\nsize_reduction = (model_size_mb - quantized_size) / model_size_mb * 100\n\nquantization_results = {\n    'original_size': model_size_mb,\n    'quantized_size': quantized_size,\n    'size_reduction': size_reduction,\n    'inference_time': quantized_perf['avg_time'],\n    'speedup': quant_speedup\n}\n\nprint(f\"Original size: {model_size_mb:.2f} MB\")\nprint(f\"Quantized size: {quantized_size:.2f} MB\")\nprint(f\"Size reduction: {size_reduction:.1f}%\")\nprint(f\"Inference time: {quantized_perf['avg_time']*1000:.2f} ms\")\nprint(f\"Speedup: {quant_speedup:.2f}x\")\n\nprint(\"\\nQuantization experiments completed\")"
  },
  {
   "cell_type": "code",
   "execution_count": null,
   "id": "8e1dca11",
   "metadata": {},
   "outputs": [],
   "source": "# Results Visualization\n# Create results directory\nos.makedirs('results', exist_ok=True)\n\n# Prepare data for visualization\nmethods = ['Original', 'Quantization'] + [f'Pruning {int(r*100)}%' for r in pruning_ratios]\nsizes = [model_size_mb, quantized_size] + [model_size_mb for _ in pruning_ratios]  # Pruning doesn't reduce file size directly\ntimes = [baseline_perf['avg_time'], quantized_perf['avg_time']] + [pruning_results[r]['inference_time'] for r in pruning_ratios]\nspeedups = [1.0, quant_speedup] + [pruning_results[r]['speedup'] for r in pruning_ratios]\n\n# Create comparison plots\nfig, ((ax1, ax2), (ax3, ax4)) = plt.subplots(2, 2, figsize=(15, 10))\n\n# Model size comparison\nax1.bar(methods, sizes, color=['blue'] + ['orange'] + ['green']*len(pruning_ratios))\nax1.set_title('Model Size Comparison', fontsize=14, fontweight='bold')\nax1.set_ylabel('Size (MB)')\nax1.tick_params(axis='x', rotation=45)\n\n# Inference time comparison\nax2.bar(methods, [t*1000 for t in times], color=['blue'] + ['orange'] + ['green']*len(pruning_ratios))\nax2.set_title('Inference Time Comparison', fontsize=14, fontweight='bold')\nax2.set_ylabel('Time (ms)')\nax2.tick_params(axis='x', rotation=45)\n\n# Speedup comparison\nax3.bar(methods, speedups, color=['blue'] + ['orange'] + ['green']*len(pruning_ratios))\nax3.set_title('Speed Improvement', fontsize=14, fontweight='bold')\nax3.set_ylabel('Speedup (x)')\nax3.tick_params(axis='x', rotation=45)\nax3.axhline(y=1.0, color='red', linestyle='--', alpha=0.7)\n\n# Pruning ratio vs speedup\nax4.plot([r*100 for r in pruning_ratios], [pruning_results[r]['speedup'] for r in pruning_ratios], \n         'go-', linewidth=2, markersize=8)\nax4.set_title('Pruning Ratio vs Speedup', fontsize=14, fontweight='bold')\nax4.set_xlabel('Pruning Ratio (%)')\nax4.set_ylabel('Speedup (x)')\nax4.grid(True, alpha=0.3)\n\nplt.tight_layout()\nplt.savefig('results/compression_comparison.png', dpi=300, bbox_inches='tight')\nplt.show()\n\nprint(\"Visualization saved to results/compression_comparison.png\")"
  },
  {
   "cell_type": "code",
   "execution_count": null,
   "id": "c5600b2f",
   "metadata": {},
   "outputs": [],
   "source": "# Summary Results Table\nimport pandas as pd\n\n# Compile all results into a summary table\nsummary_data = []\n\n# Baseline\nsummary_data.append({\n    'Method': 'Original',\n    'Size (MB)': f\"{model_size_mb:.2f}\",\n    'Inference Time (ms)': f\"{baseline_perf['avg_time']*1000:.2f}\",\n    'Speedup': \"1.00x\",\n    'Size Reduction': \"0%\"\n})\n\n# Quantization\nsummary_data.append({\n    'Method': 'Dynamic Quantization',\n    'Size (MB)': f\"{quantized_size:.2f}\",\n    'Inference Time (ms)': f\"{quantized_perf['avg_time']*1000:.2f}\",\n    'Speedup': f\"{quant_speedup:.2f}x\",\n    'Size Reduction': f\"{size_reduction:.1f}%\"\n})\n\n# Pruning methods\nfor ratio in pruning_ratios:\n    result = pruning_results[ratio]\n    summary_data.append({\n        'Method': f'Pruning {int(ratio*100)}%',\n        'Size (MB)': f\"{model_size_mb:.2f}\",  # File size doesn't change with pruning\n        'Inference Time (ms)': f\"{result['inference_time']*1000:.2f}\",\n        'Speedup': f\"{result['speedup']:.2f}x\",\n        'Size Reduction': f\"{ratio*100:.0f}% params\"\n    })\n\n# Create and display summary table\nsummary_df = pd.DataFrame(summary_data)\nprint(\"=== Model Compression Summary ===\")\nprint(summary_df.to_string(index=False))\n\n# Save summary to file\nsummary_df.to_csv('results/compression_summary.csv', index=False)\nprint(f\"\\nSummary saved to results/compression_summary.csv\")"
  },
  {
   "cell_type": "code",
   "execution_count": null,
   "id": "9b60f3a7",
   "metadata": {},
   "outputs": [],
   "source": "# Key Findings Analysis\nprint(\"=== Key Experimental Findings ===\\n\")\n\n# Find best performing methods\nbest_speedup = max(speedups)\nbest_method_idx = speedups.index(best_speedup)\nbest_method = methods[best_method_idx]\n\nprint(f\"1. Best Speed Improvement: {best_method} ({best_speedup:.2f}x speedup)\")\n\n# Quantization analysis\nprint(f\"2. Quantization Results:\")\nprint(f\"   - Size reduction: {size_reduction:.1f}%\")\nprint(f\"   - Speed improvement: {quant_speedup:.2f}x\")\n\n# Pruning analysis\nmax_pruning_speedup = max([pruning_results[r]['speedup'] for r in pruning_ratios])\nmax_pruning_ratio = max(pruning_ratios, key=lambda r: pruning_results[r]['speedup'])\n\nprint(f\"3. Pruning Analysis:\")\nprint(f\"   - Best pruning ratio: {max_pruning_ratio*100:.0f}% ({max_pruning_speedup:.2f}x speedup)\")\nprint(f\"   - Parameter reduction up to {max(pruning_ratios)*100:.0f}%\")\n\n# Trade-offs analysis\nprint(f\"\\n4. Compression Trade-offs:\")\nprint(f\"   - Quantization: File size reduction with minimal computation overhead\")\nprint(f\"   - Pruning: Parameter reduction but file size unchanged\")\n\n# Efficiency score (speedup / parameter_reduction_ratio)\nprint(f\"\\n5. Efficiency Comparison:\")\nquant_efficiency = quant_speedup / (size_reduction/100) if size_reduction > 0 else quant_speedup\nprint(f\"   - Quantization efficiency: {quant_efficiency:.2f}\")\n\nfor ratio in pruning_ratios:\n    prune_efficiency = pruning_results[ratio]['speedup'] / ratio\n    print(f\"   - Pruning {ratio*100:.0f}% efficiency: {prune_efficiency:.2f}\")\n\nprint(f\"\\n6. Practical Recommendations:\")\nprint(f\"   - For deployment: Use quantization for immediate size reduction\")\nprint(f\"   - For speed: Apply {max_pruning_ratio*100:.0f}% pruning\")\nprint(f\"   - Combined approach: Quantization + moderate pruning for best results\")"
  },
  {
   "cell_type": "markdown",
   "id": "25f7a126",
   "metadata": {},
   "source": "## Experimental Conclusions\n\n### Summary of Results\n\nThis notebook demonstrated practical model compression techniques on transformer models:\n\n1. **Quantization**: Achieved significant file size reduction with minimal performance impact\n2. **Pruning**: Provided speed improvements through parameter reduction \n3. **Evaluation**: Systematic measurement of compression trade-offs\n\n### Key Observations\n\n- **Quantization effectiveness**: Dynamic quantization provides immediate deployment benefits\n- **Pruning scalability**: Higher pruning ratios yield diminishing returns\n- **Method complementarity**: Different techniques address different deployment constraints\n\n### Practical Applications\n\n- **Mobile deployment**: Quantization for memory-constrained devices\n- **Edge computing**: Pruning for compute-limited environments  \n- **Cloud inference**: Combined approaches for cost optimization\n\n### Future Experiments\n\n- Knowledge distillation implementation\n- Combined compression strategies\n- Hardware-specific optimization\n- Accuracy preservation analysis\n\nAll experimental data and visualizations saved to `results/` directory for further analysis."
  }
 ],
 "metadata": {},
 "nbformat": 4,
 "nbformat_minor": 5
}